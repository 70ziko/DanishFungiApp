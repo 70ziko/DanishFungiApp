{
 "cells": [
  {
   "cell_type": "code",
   "execution_count": null,
   "id": "3354cfc1-8399-442c-8ed6-ed2a45a971d0",
   "metadata": {},
   "outputs": [],
   "source": [
    "import os\n",
    "import os.path as osp\n",
    "from pathlib import Path\n",
    "import pandas as pd\n",
    "import warnings\n",
    "\n",
    "warnings.filterwarnings(\"ignore\")"
   ]
  },
  {
   "cell_type": "code",
   "execution_count": null,
   "id": "da809bb787e9e9ae",
   "metadata": {
    "collapsed": false
   },
   "outputs": [],
   "source": [
    "!nvidia-smi"
   ]
  },
  {
   "cell_type": "markdown",
   "id": "d7a0520ec10736f",
   "metadata": {
    "collapsed": false
   },
   "source": [
    " ### Load metadata "
   ]
  },
  {
   "cell_type": "code",
   "execution_count": null,
   "id": "d251426251832e3e",
   "metadata": {
    "tags": []
   },
   "outputs": [],
   "source": [
    "# Change paths accordingly\n",
    "IMAGE_DIR = \"changethis\"\n",
    "TRAIN_METADATA_PATH = \"changethis\" + \"/DanishFungi2024-Mini-train.csv\"\n",
    "TEST_METADATA_PATH = \"changethis\" + \"/DanishFungi2024-pubtest.csv\""
   ]
  },
  {
   "cell_type": "code",
   "execution_count": null,
   "id": "170ded66-a4e2-4076-a31c-875bf6ecac9f",
   "metadata": {
    "collapsed": false
   },
   "outputs": [],
   "source": [
    "train_df = pd.read_csv(TRAIN_METADATA_PATH)\n",
    "test_df = pd.read_csv(TEST_METADATA_PATH)\n",
    "\n",
    "train_df[\"image_path\"] = train_df.image_path.apply(\n",
    "    lambda path: osp.join(IMAGE_DIR, osp.basename(path)))\n",
    "\n",
    "test_df[\"image_path\"] = test_df.image_path.apply(\n",
    "    lambda path: osp.join(IMAGE_DIR, osp.basename(path)))\n",
    "\n",
    "# Save updated metadata\n",
    "updated_train_metadata_path = osp.join(osp.dirname(TRAIN_METADATA_PATH), Path(TRAIN_METADATA_PATH).stem + \"-updated.csv\")\n",
    "updated_test_metadata_path = osp.join(osp.dirname(TEST_METADATA_PATH), Path(TEST_METADATA_PATH).stem + \"-updated.csv\")\n",
    "train_df.to_csv(updated_train_metadata_path, index=False)\n",
    "test_df.to_csv(updated_test_metadata_path, index=False)\n"
   ]
  },
  {
   "cell_type": "markdown",
   "id": "b67368e494d40cdc",
   "metadata": {
    "collapsed": false
   },
   "source": [
    "### Environment variables\n",
    "Select which GPU to use and add your WANDB_ENTITY and WANDB_PROJECT you want to log into."
   ]
  },
  {
   "cell_type": "code",
   "execution_count": null,
   "id": "f6fc25be-7c87-4d0c-bbb8-440f0be642b6",
   "metadata": {
    "tags": []
   },
   "outputs": [],
   "source": [
    "os.environ[\"TRAIN_METADATA_PATH\"] = updated_train_metadata_path \n",
    "os.environ[\"TEST_METADATA_PATH\"] = updated_test_metadata_path \n",
    "\n",
    "%env CUDA_DEVICES = 0\n",
    "%env WANDB_ENTITY = changethis \n",
    "%env WANDB_PROJECT = changethis \n",
    "# Optional\n",
    "%env HFHUB_OWNER = changethis\n",
    "\n",
    "os.environ[\"CUDA_VISIBLE_DEVICES\"] = os.environ[\"CUDA_DEVICES\"]"
   ]
  },
  {
   "cell_type": "markdown",
   "id": "1b82180d29c8cf70",
   "metadata": {
    "collapsed": false
   },
   "source": [
    "## Train single model with a config file."
   ]
  },
  {
   "cell_type": "code",
   "execution_count": null,
   "id": "73d960e3824a024b",
   "metadata": {
    "collapsed": false
   },
   "outputs": [],
   "source": [
    "!python train.py \\\n",
    "    --train-path $TRAIN_METADATA_PATH \\\n",
    "    --test-path $TEST_METADATA_PATH \\\n",
    "    --config-path ../configs/DF24M_224_config.yaml \\\n",
    "    --cuda-devices $CUDA_DEVICES \\\n",
    "    --wandb-entity $WANDB_ENTITY \\\n",
    "    --wandb-project $WANDB_PROJECT \\\n",
    "    --hfhub-owner $HFHUB_OWNER"
   ]
  },
  {
   "cell_type": "markdown",
   "id": "72af2f9e1431093b",
   "metadata": {
    "collapsed": false
   },
   "source": [
    "## Running Sweep Training "
   ]
  },
  {
   "cell_type": "code",
   "execution_count": null,
   "id": "a3e4dad5-1b74-469f-ab41-a8f0ff25e905",
   "metadata": {},
   "outputs": [],
   "source": [
    "# Change sweep configuration if needed\n",
    "!wandb sweep ../sweep_configs/DF24M_224.yaml"
   ]
  },
  {
   "cell_type": "code",
   "execution_count": null,
   "id": "812990e2-2f66-4a37-a3e9-98497239c31c",
   "metadata": {},
   "outputs": [],
   "source": [
    "!wandb agent <WANDB_ENTITY>/<WANDB_PROJECT>..."
   ]
  }
 ],
 "metadata": {
  "kernelspec": {
   "display_name": "pytorch-max",
   "language": "python",
   "name": "python3"
  },
  "language_info": {
   "codemirror_mode": {
    "name": "ipython",
    "version": 3
   },
   "file_extension": ".py",
   "mimetype": "text/x-python",
   "name": "python",
   "nbconvert_exporter": "python",
   "pygments_lexer": "ipython3",
   "version": "3.12.8"
  }
 },
 "nbformat": 4,
 "nbformat_minor": 5
}
